{
 "cells": [
  {
   "cell_type": "markdown",
   "id": "9c137bd4-8570-4987-a4fd-21f370f07713",
   "metadata": {},
   "source": [
    "# Interactive Complex Probes"
   ]
  },
  {
   "cell_type": "markdown",
   "id": "3028d310-8489-4d90-8264-518df01219af",
   "metadata": {},
   "source": [
    "## Source Code"
   ]
  },
  {
   "cell_type": "code",
   "execution_count": 7,
   "id": "67778ce5-3871-4c48-8201-71f049002a4b",
   "metadata": {},
   "outputs": [],
   "source": [
    "import sys\n",
    "if \"pyodide\" in sys.modules:\n",
    "  import micropip\n",
    "  await micropip.install('ipywidgets')\n",
    "  await micropip.install('ipympl')\n",
    "\n",
    "%matplotlib widget\n",
    "import numpy as np\n",
    "import matplotlib.pyplot as plt\n",
    "from colorspacious import cspace_convert\n",
    "from ipywidgets import widgets, IntSlider, VBox, Layout"
   ]
  },
  {
   "cell_type": "code",
   "execution_count": 2,
   "id": "2d75af12-6c38-4b41-a285-dddcd01854d2",
   "metadata": {},
   "outputs": [],
   "source": [
    "# Complex Probes Utilities\n",
    "def energy2wavelength(energy):\n",
    "    \"\"\" \"\"\"\n",
    "    hplanck = 6.62607e-34\n",
    "    c = 299792458.0\n",
    "    me = 9.1093856e-31\n",
    "    e = 1.6021766208e-19\n",
    "\n",
    "    return hplanck * c / np.sqrt(energy * (2 * me * c**2 / e + energy)) / e * 1.0e10\n",
    "\n",
    "\n",
    "class ComplexProbe:\n",
    "    \"\"\" \"\"\"\n",
    "\n",
    "    # fmt: off\n",
    "    _polar_symbols = (\n",
    "        \"C10\", \"C12\", \"phi12\",\n",
    "        \"C21\", \"phi21\", \"C23\", \"phi23\",\n",
    "        \"C30\", \"C32\", \"phi32\", \"C34\", \"phi34\",\n",
    "        \"C41\", \"phi41\", \"C43\", \"phi43\", \"C45\", \"phi45\",\n",
    "        \"C50\", \"C52\", \"phi52\", \"C54\", \"phi54\", \"C56\", \"phi56\",\n",
    "    )\n",
    "\n",
    "    _polar_aliases = {\n",
    "        \"defocus\": \"C10\", \"astigmatism\": \"C12\", \"astigmatism_angle\": \"phi12\",\n",
    "        \"coma\": \"C21\", \"coma_angle\": \"phi21\",\n",
    "        \"Cs\": \"C30\",\n",
    "        \"C5\": \"C50\",\n",
    "    }\n",
    "    # fmt: on\n",
    "\n",
    "    def __init__(\n",
    "        self,\n",
    "        energy,\n",
    "        gpts,\n",
    "        sampling,\n",
    "        semiangle_cutoff,\n",
    "        soft_aperture=True,\n",
    "        parameters={},\n",
    "        **kwargs,\n",
    "    ):\n",
    "        self._energy = energy\n",
    "        self._gpts = gpts\n",
    "        self._sampling = sampling\n",
    "        self._semiangle_cutoff = semiangle_cutoff\n",
    "        self._soft_aperture = soft_aperture\n",
    "\n",
    "        self._parameters = dict(\n",
    "            zip(self._polar_symbols, [0.0] * len(self._polar_symbols))\n",
    "        )\n",
    "        parameters.update(kwargs)\n",
    "        self.set_parameters(parameters)\n",
    "        self._wavelength = energy2wavelength(self._energy)\n",
    "\n",
    "    def set_parameters(self, parameters):\n",
    "        \"\"\" \"\"\"\n",
    "        for symbol, value in parameters.items():\n",
    "            if symbol in self._parameters.keys():\n",
    "                self._parameters[symbol] = value\n",
    "\n",
    "            elif symbol == \"defocus\":\n",
    "                self._parameters[self._polar_aliases[symbol]] = -value\n",
    "\n",
    "            elif symbol in self._polar_aliases.keys():\n",
    "                self._parameters[self._polar_aliases[symbol]] = value\n",
    "\n",
    "            else:\n",
    "                raise ValueError(\"{} not a recognized parameter\".format(symbol))\n",
    "\n",
    "        return parameters\n",
    "\n",
    "    def get_spatial_frequencies(self):\n",
    "        return tuple(np.fft.fftfreq(n, d) for n, d in zip(self._gpts, self._sampling))\n",
    "\n",
    "    def get_scattering_angles(self):\n",
    "        kx, ky = self.get_spatial_frequencies()\n",
    "        kx, ky = kx * self._wavelength, ky * self._wavelength\n",
    "        alpha = np.sqrt(kx[:, None] ** 2 + ky[None, :] ** 2)\n",
    "        phi = np.arctan2(ky[None, :], kx[:, None])\n",
    "        return alpha, phi\n",
    "\n",
    "    def hard_aperture(self, alpha, semiangle_cutoff):\n",
    "        return alpha <= semiangle_cutoff\n",
    "\n",
    "    def soft_aperture(self, alpha, semiangle_cutoff, angular_sampling):\n",
    "        denominator = (\n",
    "            np.sqrt(angular_sampling[0] ** 2 + angular_sampling[1] ** 2) * 1e-3\n",
    "        )\n",
    "        return np.clip((semiangle_cutoff - alpha) / denominator + 0.5, 0, 1)\n",
    "\n",
    "    def evaluate_aperture(self, alpha, phi):\n",
    "        if self._soft_aperture:\n",
    "            return self.soft_aperture(\n",
    "                alpha, self._semiangle_cutoff * 1e-3, self.angular_sampling\n",
    "            )\n",
    "        else:\n",
    "            return self.hard_aperture(alpha, self._semiangle_cutoff * 1e-3)\n",
    "\n",
    "    def evaluate_chi(self, alpha, phi):\n",
    "        p = self._parameters\n",
    "\n",
    "        alpha2 = alpha**2\n",
    "\n",
    "        array = np.zeros_like(alpha)\n",
    "        if any([p[symbol] != 0.0 for symbol in (\"C10\", \"C12\", \"phi12\")]):\n",
    "            array += (\n",
    "                1 / 2 * alpha2 * (p[\"C10\"] + p[\"C12\"] * np.cos(2 * (phi - p[\"phi12\"])))\n",
    "            )\n",
    "\n",
    "        if any([p[symbol] != 0.0 for symbol in (\"C21\", \"phi21\", \"C23\", \"phi23\")]):\n",
    "            array += (\n",
    "                1\n",
    "                / 3\n",
    "                * alpha2\n",
    "                * alpha\n",
    "                * (\n",
    "                    p[\"C21\"] * np.cos(phi - p[\"phi21\"])\n",
    "                    + p[\"C23\"] * np.cos(3 * (phi - p[\"phi23\"]))\n",
    "                )\n",
    "            )\n",
    "\n",
    "        if any(\n",
    "            [p[symbol] != 0.0 for symbol in (\"C30\", \"C32\", \"phi32\", \"C34\", \"phi34\")]\n",
    "        ):\n",
    "            array += (\n",
    "                1\n",
    "                / 4\n",
    "                * alpha2**2\n",
    "                * (\n",
    "                    p[\"C30\"]\n",
    "                    + p[\"C32\"] * np.cos(2 * (phi - p[\"phi32\"]))\n",
    "                    + p[\"C34\"] * np.cos(4 * (phi - p[\"phi34\"]))\n",
    "                )\n",
    "            )\n",
    "\n",
    "        if any(\n",
    "            [\n",
    "                p[symbol] != 0.0\n",
    "                for symbol in (\"C41\", \"phi41\", \"C43\", \"phi43\", \"C45\", \"phi41\")\n",
    "            ]\n",
    "        ):\n",
    "            array += (\n",
    "                1\n",
    "                / 5\n",
    "                * alpha2**2\n",
    "                * alpha\n",
    "                * (\n",
    "                    p[\"C41\"] * np.cos((phi - p[\"phi41\"]))\n",
    "                    + p[\"C43\"] * np.cos(3 * (phi - p[\"phi43\"]))\n",
    "                    + p[\"C45\"] * np.cos(5 * (phi - p[\"phi45\"]))\n",
    "                )\n",
    "            )\n",
    "\n",
    "        if any(\n",
    "            [\n",
    "                p[symbol] != 0.0\n",
    "                for symbol in (\"C50\", \"C52\", \"phi52\", \"C54\", \"phi54\", \"C56\", \"phi56\")\n",
    "            ]\n",
    "        ):\n",
    "            array += (\n",
    "                1\n",
    "                / 6\n",
    "                * alpha2**3\n",
    "                * (\n",
    "                    p[\"C50\"]\n",
    "                    + p[\"C52\"] * np.cos(2 * (phi - p[\"phi52\"]))\n",
    "                    + p[\"C54\"] * np.cos(4 * (phi - p[\"phi54\"]))\n",
    "                    + p[\"C56\"] * np.cos(6 * (phi - p[\"phi56\"]))\n",
    "                )\n",
    "            )\n",
    "\n",
    "        array = 2 * np.pi / self._wavelength * array\n",
    "        return array\n",
    "\n",
    "    def evaluate_aberrations(self, alpha, phi):\n",
    "        return np.exp(-1.0j * self.evaluate_chi(alpha, phi))\n",
    "\n",
    "    def evaluate_ctf(self):\n",
    "        alpha, phi = self.get_scattering_angles()\n",
    "        array = self.evaluate_aberrations(alpha, phi)\n",
    "        array *= self.evaluate_aperture(alpha, phi)\n",
    "        return array\n",
    "\n",
    "    def build(self):\n",
    "        self._array_fourier = self.evaluate_ctf()\n",
    "        array = np.fft.ifft2(self._array_fourier)\n",
    "        array /= np.sqrt(np.sum(np.abs(array) ** 2))\n",
    "        self._array = array\n",
    "        return self\n",
    "\n",
    "    @property\n",
    "    def reciprocal_space_sampling(self):\n",
    "        return tuple(1 / (n * s) for n, s in zip(self._gpts, self._sampling))\n",
    "\n",
    "    @property\n",
    "    def angular_sampling(self):\n",
    "        return tuple(\n",
    "            dk * self._wavelength * 1e3 for dk in self.reciprocal_space_sampling\n",
    "        )"
   ]
  },
  {
   "cell_type": "code",
   "execution_count": 3,
   "id": "483b90f9-6b9d-4f2f-a5b5-085bd7c151ce",
   "metadata": {},
   "outputs": [],
   "source": [
    "# Complex Plotting Utilities\n",
    "def Complex2RGB(complex_data, vmin=None, vmax=None, power=None, chroma_boost=1):\n",
    "    \"\"\" \"\"\"\n",
    "    amp = np.abs(complex_data)\n",
    "    phase = np.angle(complex_data)\n",
    "\n",
    "    if power is not None:\n",
    "        amp = amp**power\n",
    "\n",
    "    if np.isclose(np.max(amp), np.min(amp)):\n",
    "        if vmin is None:\n",
    "            vmin = 0\n",
    "        if vmax is None:\n",
    "            vmax = np.max(amp)\n",
    "    else:\n",
    "        if vmin is None:\n",
    "            vmin = 0.02\n",
    "        if vmax is None:\n",
    "            vmax = 0.98\n",
    "        vals = np.sort(amp[~np.isnan(amp)])\n",
    "        ind_vmin = np.round((vals.shape[0] - 1) * vmin).astype(\"int\")\n",
    "        ind_vmax = np.round((vals.shape[0] - 1) * vmax).astype(\"int\")\n",
    "        ind_vmin = np.max([0, ind_vmin])\n",
    "        ind_vmax = np.min([len(vals) - 1, ind_vmax])\n",
    "        vmin = vals[ind_vmin]\n",
    "        vmax = vals[ind_vmax]\n",
    "\n",
    "    amp = np.where(amp < vmin, vmin, amp)\n",
    "    amp = np.where(amp > vmax, vmax, amp)\n",
    "    amp = ((amp - vmin) / vmax).clip(1e-16, 1)\n",
    "\n",
    "    J = amp * 61.5  # Note we restrict luminance to the monotonic chroma cutoff\n",
    "    C = np.minimum(chroma_boost * 98 * J / 123, 110)\n",
    "    h = np.rad2deg(phase) + 180\n",
    "\n",
    "    JCh = np.stack((J, C, h), axis=-1)\n",
    "    rgb = cspace_convert(JCh, \"JCh\", \"sRGB1\").clip(0, 1)\n",
    "\n",
    "    return rgb\n",
    "\n",
    "\n",
    "def show_complex(\n",
    "    complex_data, figax=None, vmin=None, vmax=None, power=None, ticks=True, chroma_boost=1, **kwargs\n",
    "):\n",
    "    \"\"\" \"\"\"\n",
    "    rgb = Complex2RGB(complex_data, vmin, vmax, power=power, chroma_boost=chroma_boost)\n",
    "\n",
    "    figsize = kwargs.pop(\"figsize\", (6, 6))\n",
    "    if figax is None:\n",
    "        fig, ax = plt.subplots(figsize=figsize)\n",
    "    else:\n",
    "        figa,ax = figax\n",
    "\n",
    "    im = ax.imshow(rgb, **kwargs)\n",
    "    if ticks is False:\n",
    "        ax.set_xticks([])\n",
    "        ax.set_yticks([])\n",
    "    return ax, im \n",
    "\n",
    "def build_probes(semiangle_cutoff,defocus,astigmatism,astigmatism_angle):\n",
    "    \n",
    "    probe=ComplexProbe(\n",
    "        energy=300e3,\n",
    "        gpts=(128,128),\n",
    "        sampling=(0.1,0.1),\n",
    "        semiangle_cutoff=semiangle_cutoff,\n",
    "        defocus=defocus,\n",
    "        astigmatism=astigmatism,\n",
    "        astigmatism_angle=np.deg2rad(astigmatism_angle),\n",
    "    ).build()\n",
    "    return np.fft.fftshift(probe._array), np.fft.fftshift(probe._array_fourier)\n",
    "\n",
    "plt.close('all')\n",
    "plt.ioff()\n",
    "fig,(ax_real,ax_fourier) = plt.subplots(1,2, figsize=(7,3.5))\n",
    "\n",
    "probe_real, probe_fourier = build_probes(20,100,0,45)\n",
    "ax_real, im_real = show_complex(\n",
    "    probe_real,\n",
    "    figax=(fig,ax_real),\n",
    "    ticks=False,\n",
    "    figsize=(3.5,3.5)\n",
    ")\n",
    "\n",
    "ax_fourier, im_fourier = show_complex(\n",
    "    probe_fourier,\n",
    "    figax=(fig,ax_fourier),\n",
    "    ticks=False,\n",
    "    figsize=(3.5,3.5)\n",
    ")\n",
    "ax_real.set_title(\"Real-space complex probe\")\n",
    "ax_fourier.set_title(\"Reciprocal-space complex probe\")\n",
    "fig.tight_layout()\n",
    "fig.canvas.toolbar_visible = False\n",
    "fig.canvas.header_visible = False\n",
    "fig.canvas.footer_visible = False\n",
    "fig.canvas.resizable = False"
   ]
  },
  {
   "cell_type": "code",
   "execution_count": 4,
   "id": "75a6d037-a170-4e68-af10-72303f3d6adf",
   "metadata": {},
   "outputs": [],
   "source": [
    "def update_probes(semiangle_cutoff,defocus,astigmatism,astigmatism_angle):\n",
    "    \n",
    "    probe_real, probe_fourier = build_probes(\n",
    "        semiangle_cutoff,\n",
    "        defocus,\n",
    "        astigmatism,\n",
    "        astigmatism_angle,\n",
    "    )\n",
    "    rgb_real = Complex2RGB(probe_real)\n",
    "    rgb_fourier = Complex2RGB(probe_fourier)\n",
    "    im_real.set_data(rgb_real)\n",
    "    im_fourier.set_data(rgb_fourier)\n",
    "    fig.canvas.draw_idle()\n",
    "\n",
    "    return None\n",
    "    \n",
    "semiangle_cutoff=IntSlider(20,15,40,description='CSA [mrad]')\n",
    "defocus=IntSlider(100,-200,200,description=r'$C_1$ [Å]')\n",
    "astigmatism=IntSlider(0,0,200, description=r'$C_{12}$ [Å]')\n",
    "astigmatism_angle=IntSlider(45,-180,180, description=r'$\\phi_{12}$ [°]')\n",
    "\n",
    "controls = widgets.interactive(\n",
    "    update_probes, \n",
    "    **{\n",
    "        'semiangle_cutoff':semiangle_cutoff,\n",
    "        'defocus':defocus,\n",
    "        'astigmatism':astigmatism,\n",
    "        'astigmatism_angle':astigmatism_angle,\n",
    "    },\n",
    ")"
   ]
  },
  {
   "cell_type": "markdown",
   "id": "4e44a921-918b-48fd-8a81-efad060b94f8",
   "metadata": {},
   "source": [
    "## Visualization"
   ]
  },
  {
   "cell_type": "code",
   "execution_count": 8,
   "id": "92a9d901-79ac-42a0-8bae-6b9bcb66d0a2",
   "metadata": {},
   "outputs": [
    {
     "data": {
      "application/vnd.jupyter.widget-view+json": {
       "model_id": "7238ce58d11542a0b8b57755bf08193b",
       "version_major": 2,
       "version_minor": 0
      },
      "text/plain": [
       "VBox(children=(interactive(children=(IntSlider(value=20, description='CSA [mrad]', max=40, min=15), IntSlider(…"
      ]
     },
     "execution_count": 8,
     "metadata": {},
     "output_type": "execute_result"
    }
   ],
   "source": [
    "#| label: app:complex_probes\n",
    "VBox(\n",
    "    [\n",
    "        controls,\n",
    "        fig.canvas\n",
    "    ],\n",
    "    layout= Layout(display='flex',align_items='center')\n",
    ")"
   ]
  },
  {
   "cell_type": "code",
   "execution_count": null,
   "id": "5b9861a6-9506-4123-8ca4-4746a99661c2",
   "metadata": {},
   "outputs": [],
   "source": []
  }
 ],
 "metadata": {
  "kernelspec": {
   "display_name": "Python 3 (ipykernel)",
   "language": "python",
   "name": "python3"
  },
  "language_info": {
   "codemirror_mode": {
    "name": "ipython",
    "version": 3
   },
   "file_extension": ".py",
   "mimetype": "text/x-python",
   "name": "python",
   "nbconvert_exporter": "python",
   "pygments_lexer": "ipython3",
   "version": "3.12.1"
  },
  "widgets": {
   "application/vnd.jupyter.widget-state+json": {
    "state": {
     "0194963bae2645ccb36265a1916f748d": {
      "model_module": "@jupyter-widgets/controls",
      "model_module_version": "2.0.0",
      "model_name": "IntSliderModel",
      "state": {
       "behavior": "drag-tap",
       "description": "$C_1$ [Å]",
       "layout": "IPY_MODEL_e8db6969fb144661aa9cfdfcb27789f3",
       "max": 200,
       "min": -200,
       "style": "IPY_MODEL_c5374b4746b64b76a57cdbe750ddd80c",
       "value": 100
      }
     },
     "026703ccf1a74dd6939b36d2f7184e21": {
      "model_module": "@jupyter-widgets/base",
      "model_module_version": "2.0.0",
      "model_name": "LayoutModel",
      "state": {
       "align_items": "center",
       "display": "flex"
      }
     },
     "0668167eccd44dc0b831a163569bd997": {
      "model_module": "@jupyter-widgets/base",
      "model_module_version": "2.0.0",
      "model_name": "LayoutModel",
      "state": {}
     },
     "220f40fe58084d989b2ac3d2055c5895": {
      "model_module": "@jupyter-widgets/base",
      "model_module_version": "2.0.0",
      "model_name": "LayoutModel",
      "state": {}
     },
     "43ff6ea6bcb24136935ae97a09c9438e": {
      "model_module": "@jupyter-widgets/base",
      "model_module_version": "2.0.0",
      "model_name": "LayoutModel",
      "state": {}
     },
     "533e765f11584073822a73ae54b9a34b": {
      "model_module": "@jupyter-widgets/controls",
      "model_module_version": "2.0.0",
      "model_name": "SliderStyleModel",
      "state": {
       "description_width": ""
      }
     },
     "56408926c681476992f7299f10c3ec66": {
      "model_module": "@jupyter-widgets/controls",
      "model_module_version": "2.0.0",
      "model_name": "SliderStyleModel",
      "state": {
       "description_width": ""
      }
     },
     "600e50d61d264316b06356ca8a0f18e4": {
      "model_module": "@jupyter-widgets/output",
      "model_module_version": "1.0.0",
      "model_name": "OutputModel",
      "state": {
       "layout": "IPY_MODEL_43ff6ea6bcb24136935ae97a09c9438e"
      }
     },
     "7238ce58d11542a0b8b57755bf08193b": {
      "model_module": "@jupyter-widgets/controls",
      "model_module_version": "2.0.0",
      "model_name": "VBoxModel",
      "state": {
       "children": [
        "IPY_MODEL_ede18960c31f4ab98a6b3e15fcb36085",
        "IPY_MODEL_cfa2570aed7b41efa9bfd9deaa5b888f"
       ],
       "layout": "IPY_MODEL_026703ccf1a74dd6939b36d2f7184e21"
      }
     },
     "7a9544d3d893480ab1414f18ffb07882": {
      "model_module": "@jupyter-widgets/controls",
      "model_module_version": "2.0.0",
      "model_name": "IntSliderModel",
      "state": {
       "behavior": "drag-tap",
       "description": "$C_{12}$ [Å]",
       "layout": "IPY_MODEL_220f40fe58084d989b2ac3d2055c5895",
       "max": 200,
       "style": "IPY_MODEL_56408926c681476992f7299f10c3ec66"
      }
     },
     "811b4888100443bb97d4f799ac2d16c9": {
      "model_module": "@jupyter-widgets/controls",
      "model_module_version": "2.0.0",
      "model_name": "SliderStyleModel",
      "state": {
       "description_width": ""
      }
     },
     "877ea472aa6a49e5b37de6a69420b91f": {
      "model_module": "@jupyter-widgets/base",
      "model_module_version": "2.0.0",
      "model_name": "LayoutModel",
      "state": {}
     },
     "8788fa4eae9b4f48b286c039d1b6d4bf": {
      "model_module": "jupyter-matplotlib",
      "model_module_version": "^0.11",
      "model_name": "ToolbarModel",
      "state": {
       "_model_module_version": "^0.11",
       "_view_module_version": "^0.11",
       "collapsed": true,
       "layout": "IPY_MODEL_0668167eccd44dc0b831a163569bd997",
       "orientation": "vertical",
       "toolitems": [
        [
         "Home",
         "Reset original view",
         "home",
         "home"
        ],
        [
         "Back",
         "Back to previous view",
         "arrow-left",
         "back"
        ],
        [
         "Forward",
         "Forward to next view",
         "arrow-right",
         "forward"
        ],
        [
         "Pan",
         "Left button pans, Right button zooms\nx/y fixes axis, CTRL fixes aspect",
         "arrows",
         "pan"
        ],
        [
         "Zoom",
         "Zoom to rectangle\nx/y fixes axis",
         "square-o",
         "zoom"
        ],
        [
         "Download",
         "Download plot",
         "floppy-o",
         "save_figure"
        ]
       ]
      }
     },
     "8ef134b9982944d191a5c79ea31b82a6": {
      "model_module": "@jupyter-widgets/base",
      "model_module_version": "2.0.0",
      "model_name": "LayoutModel",
      "state": {}
     },
     "b7d55997a0944a3db1534031e81bb35b": {
      "model_module": "@jupyter-widgets/base",
      "model_module_version": "2.0.0",
      "model_name": "LayoutModel",
      "state": {}
     },
     "c5374b4746b64b76a57cdbe750ddd80c": {
      "model_module": "@jupyter-widgets/controls",
      "model_module_version": "2.0.0",
      "model_name": "SliderStyleModel",
      "state": {
       "description_width": ""
      }
     },
     "cfa2570aed7b41efa9bfd9deaa5b888f": {
      "model_module": "jupyter-matplotlib",
      "model_module_version": "^0.11",
      "model_name": "MPLCanvasModel",
      "state": {
       "_cursor": "default",
       "_data_url": "data:image/png;base64,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",
       "_figure_label": "Figure 1",
       "_model_module_version": "^0.11",
       "_size": [
        700,
        350
       ],
       "_view_module_version": "^0.11",
       "footer_visible": false,
       "header_visible": false,
       "layout": "IPY_MODEL_f286ac08004644d494ac05cbf0dea061",
       "resizable": false,
       "toolbar": "IPY_MODEL_8788fa4eae9b4f48b286c039d1b6d4bf",
       "toolbar_position": "left",
       "toolbar_visible": false
      }
     },
     "e738fcb579ef4886b4f9a94022730a4e": {
      "model_module": "@jupyter-widgets/controls",
      "model_module_version": "2.0.0",
      "model_name": "VBoxModel",
      "state": {
       "children": [
        "IPY_MODEL_ede18960c31f4ab98a6b3e15fcb36085",
        "IPY_MODEL_cfa2570aed7b41efa9bfd9deaa5b888f"
       ],
       "layout": "IPY_MODEL_8ef134b9982944d191a5c79ea31b82a6"
      }
     },
     "e8db6969fb144661aa9cfdfcb27789f3": {
      "model_module": "@jupyter-widgets/base",
      "model_module_version": "2.0.0",
      "model_name": "LayoutModel",
      "state": {}
     },
     "ede18960c31f4ab98a6b3e15fcb36085": {
      "model_module": "@jupyter-widgets/controls",
      "model_module_version": "2.0.0",
      "model_name": "VBoxModel",
      "state": {
       "_dom_classes": [
        "widget-interact"
       ],
       "children": [
        "IPY_MODEL_fbe90a78110e4701af3883e914261986",
        "IPY_MODEL_0194963bae2645ccb36265a1916f748d",
        "IPY_MODEL_7a9544d3d893480ab1414f18ffb07882",
        "IPY_MODEL_f112ad417be34e15b3b976b8a62ffee6",
        "IPY_MODEL_600e50d61d264316b06356ca8a0f18e4"
       ],
       "layout": "IPY_MODEL_b7d55997a0944a3db1534031e81bb35b"
      }
     },
     "f112ad417be34e15b3b976b8a62ffee6": {
      "model_module": "@jupyter-widgets/controls",
      "model_module_version": "2.0.0",
      "model_name": "IntSliderModel",
      "state": {
       "behavior": "drag-tap",
       "description": "$\\phi_{12}$ [°]",
       "layout": "IPY_MODEL_877ea472aa6a49e5b37de6a69420b91f",
       "max": 180,
       "min": -180,
       "style": "IPY_MODEL_533e765f11584073822a73ae54b9a34b",
       "value": 45
      }
     },
     "f286ac08004644d494ac05cbf0dea061": {
      "model_module": "@jupyter-widgets/base",
      "model_module_version": "2.0.0",
      "model_name": "LayoutModel",
      "state": {}
     },
     "f80a871abe334ea88365093004def356": {
      "model_module": "@jupyter-widgets/base",
      "model_module_version": "2.0.0",
      "model_name": "LayoutModel",
      "state": {}
     },
     "fbe90a78110e4701af3883e914261986": {
      "model_module": "@jupyter-widgets/controls",
      "model_module_version": "2.0.0",
      "model_name": "IntSliderModel",
      "state": {
       "behavior": "drag-tap",
       "description": "CSA [mrad]",
       "layout": "IPY_MODEL_f80a871abe334ea88365093004def356",
       "max": 40,
       "min": 15,
       "style": "IPY_MODEL_811b4888100443bb97d4f799ac2d16c9",
       "value": 20
      }
     }
    },
    "version_major": 2,
    "version_minor": 0
   }
  }
 },
 "nbformat": 4,
 "nbformat_minor": 5
}
